{
 "cells": [
  {
   "cell_type": "markdown",
   "id": "a7f1341b",
   "metadata": {
    "id": "a7f1341b"
   },
   "source": [
    "## <center>Лабораторная работа № 6 'Прогноз успеха фильмов по обзорам'<center>"
   ]
  },
  {
   "cell_type": "markdown",
   "id": "59804a86",
   "metadata": {
    "id": "59804a86"
   },
   "source": [
    "### <center>Выполнила студентка 3 курса группы БФИ2001 Калмыкова Дарья<center>"
   ]
  },
  {
   "cell_type": "markdown",
   "id": "42112078",
   "metadata": {
    "id": "42112078"
   },
   "source": [
    "### Цель\n",
    "Прогноз успеха фильмов по обзорам (Predict Sentiment From Movie Reviews)"
   ]
  },
  {
   "cell_type": "markdown",
   "id": "44b5295a",
   "metadata": {
    "id": "44b5295a"
   },
   "source": [
    "### Задачи\n",
    "* Ознакомиться с задачей классификации\n",
    "* Изучить способы представления текста для передачи в ИНС\n",
    "* Достигнуть точность прогноза не менее 95%"
   ]
  },
  {
   "cell_type": "markdown",
   "id": "16feeaf9",
   "metadata": {
    "id": "16feeaf9"
   },
   "source": [
    "### Требования\n",
    "1. Построить и обучить нейронную сеть для обработки текста\n",
    "2. Исследовать результаты при различном размере вектора представления текста\n",
    "3. Написать функцию, которая позволяет ввести пользовательский текст (в отчете \n",
    "привести пример работы сети на пользовательском тексте"
   ]
  },
  {
   "cell_type": "code",
   "execution_count": 35,
   "id": "6a1c8312",
   "metadata": {
    "id": "6a1c8312"
   },
   "outputs": [],
   "source": [
    "import numpy as np\n",
    "import torch\n",
    "import re\n",
    "import spacy\n",
    "\n",
    "import keras\n",
    "from keras.models import Sequential\n",
    "from keras.layers import Dense, Dropout, BatchNormalization, Conv2D\n",
    "from keras.datasets import imdb\n",
    "from keras.regularizers import l2\n",
    "\n",
    "import tensorflow as tf\n",
    "from tensorflow.keras.initializers import glorot_uniform\n",
    "from keras.utils import pad_sequences\n",
    "from keras.preprocessing.text import Tokenizer\n",
    "\n",
    "import gensim\n",
    "import gensim.downloader as api\n",
    "from gensim.models import Word2Vec\n",
    "\n",
    "import nltk\n",
    "from nltk import word_tokenize\n",
    "from nltk.corpus import stopwords"
   ]
  },
  {
   "cell_type": "code",
   "execution_count": 2,
   "id": "9fe1ad07",
   "metadata": {},
   "outputs": [],
   "source": [
    "nlp = spacy.load(\"en_core_web_sm\")"
   ]
  },
  {
   "cell_type": "code",
   "execution_count": 3,
   "id": "55e6feb7",
   "metadata": {
    "colab": {
     "base_uri": "https://localhost:8080/"
    },
    "id": "55e6feb7",
    "outputId": "60b0ca08-34d9-4f58-9de1-da3a71599fe4"
   },
   "outputs": [],
   "source": [
    "(training_data, training_targets), (testing_data, testing_targets) = imdb.load_data(num_words=10000)\n",
    "data = np.concatenate((training_data, testing_data), axis=0)\n",
    "targets = np.concatenate((training_targets, testing_targets), axis=0)"
   ]
  },
  {
   "cell_type": "code",
   "execution_count": 4,
   "id": "86bd1729",
   "metadata": {
    "colab": {
     "base_uri": "https://localhost:8080/"
    },
    "id": "86bd1729",
    "outputId": "b61f340d-254d-40f6-a3af-fb58c77a5486",
    "scrolled": true
   },
   "outputs": [
    {
     "name": "stdout",
     "output_type": "stream",
     "text": [
      "Categories: [0 1]\n",
      "Number of unique words: 9998\n"
     ]
    }
   ],
   "source": [
    "print(\"Categories:\", np.unique(targets))\n",
    "print(\"Number of unique words:\", len(np.unique(np.hstack(data))))"
   ]
  },
  {
   "cell_type": "code",
   "execution_count": 5,
   "id": "a7b705db",
   "metadata": {
    "id": "a7b705db"
   },
   "outputs": [],
   "source": [
    "length = [len(i) for i in data]"
   ]
  },
  {
   "cell_type": "code",
   "execution_count": 6,
   "id": "d63fa20e",
   "metadata": {
    "colab": {
     "base_uri": "https://localhost:8080/"
    },
    "id": "d63fa20e",
    "outputId": "91ba517b-52ba-4853-fb53-03670815feca"
   },
   "outputs": [
    {
     "name": "stdout",
     "output_type": "stream",
     "text": [
      "Average Review length: 234.75892\n",
      "Standard Deviation: 173\n"
     ]
    }
   ],
   "source": [
    "print(\"Average Review length:\", np.mean(length))\n",
    "print(\"Standard Deviation:\", round(np.std(length)))"
   ]
  },
  {
   "cell_type": "code",
   "execution_count": 7,
   "id": "231478d9",
   "metadata": {
    "colab": {
     "base_uri": "https://localhost:8080/"
    },
    "id": "231478d9",
    "outputId": "10cfc91c-b072-4bcf-9f5e-e6ee3d13b599"
   },
   "outputs": [
    {
     "name": "stdout",
     "output_type": "stream",
     "text": [
      "Label: 1\n",
      "[1, 14, 22, 16, 43, 530, 973, 1622, 1385, 65, 458, 4468, 66, 3941, 4, 173, 36, 256, 5, 25, 100, 43, 838, 112, 50, 670, 2, 9, 35, 480, 284, 5, 150, 4, 172, 112, 167, 2, 336, 385, 39, 4, 172, 4536, 1111, 17, 546, 38, 13, 447, 4, 192, 50, 16, 6, 147, 2025, 19, 14, 22, 4, 1920, 4613, 469, 4, 22, 71, 87, 12, 16, 43, 530, 38, 76, 15, 13, 1247, 4, 22, 17, 515, 17, 12, 16, 626, 18, 2, 5, 62, 386, 12, 8, 316, 8, 106, 5, 4, 2223, 5244, 16, 480, 66, 3785, 33, 4, 130, 12, 16, 38, 619, 5, 25, 124, 51, 36, 135, 48, 25, 1415, 33, 6, 22, 12, 215, 28, 77, 52, 5, 14, 407, 16, 82, 2, 8, 4, 107, 117, 5952, 15, 256, 4, 2, 7, 3766, 5, 723, 36, 71, 43, 530, 476, 26, 400, 317, 46, 7, 4, 2, 1029, 13, 104, 88, 4, 381, 15, 297, 98, 32, 2071, 56, 26, 141, 6, 194, 7486, 18, 4, 226, 22, 21, 134, 476, 26, 480, 5, 144, 30, 5535, 18, 51, 36, 28, 224, 92, 25, 104, 4, 226, 65, 16, 38, 1334, 88, 12, 16, 283, 5, 16, 4472, 113, 103, 32, 15, 16, 5345, 19, 178, 32]\n"
     ]
    }
   ],
   "source": [
    "print(\"Label:\", targets[0])\n",
    "print(data[0])"
   ]
  },
  {
   "cell_type": "code",
   "execution_count": 8,
   "id": "de6e54c5",
   "metadata": {
    "colab": {
     "base_uri": "https://localhost:8080/"
    },
    "id": "de6e54c5",
    "outputId": "b3bc1354-15ce-497b-f905-5174a6ba3149"
   },
   "outputs": [
    {
     "name": "stdout",
     "output_type": "stream",
     "text": [
      "# this film was just brilliant casting location scenery story direction everyone's really suited the part they played and you could just imagine being there robert # is an amazing actor and now the same being director # father came from the same scottish island as myself so i loved the fact there was a real connection with this film the witty remarks throughout the film were great it was just brilliant so much that i bought the film as soon as it was released for # and would recommend it to everyone to watch and the fly fishing was amazing really cried at the end it was so sad and you know what they say if you cry at a film it must have been good and this definitely was also # to the two little boy's that played the # of norman and paul they were just brilliant children are often left out of the # list i think because the stars that play them all grown up are such a big profile for the whole film but these children are amazing and should be praised for what they have done don't you think the whole story was so lovely because it was true and was someone's life after all that was shared with us all\n"
     ]
    }
   ],
   "source": [
    "index = imdb.get_word_index()\n",
    "reverse_index = dict([(value, key) for (key, value) in index.items()])\n",
    "decoded = \" \".join( [reverse_index.get(i - 3, \"#\") for i in data[0]] )\n",
    "print(decoded)"
   ]
  },
  {
   "cell_type": "code",
   "execution_count": 9,
   "id": "1bdd1fb1",
   "metadata": {
    "id": "1bdd1fb1"
   },
   "outputs": [],
   "source": [
    "def vectorize(sequences, dimension = 10000):\n",
    "    results = np.zeros((len(sequences), dimension))\n",
    "    for i, sequence in enumerate(sequences):\n",
    "        results[i, sequence] = 1\n",
    "    return results\n",
    "\n",
    "data = vectorize(data)\n",
    "targets = np.array(targets).astype(\"float32\")"
   ]
  },
  {
   "cell_type": "code",
   "execution_count": 10,
   "id": "91977fb3",
   "metadata": {
    "id": "91977fb3"
   },
   "outputs": [],
   "source": [
    "test_x = data[:10000]\n",
    "test_y = targets[:10000]\n",
    "train_x = data[10000:]\n",
    "train_y = targets[10000:]"
   ]
  },
  {
   "cell_type": "code",
   "execution_count": 11,
   "id": "22af1299",
   "metadata": {
    "colab": {
     "base_uri": "https://localhost:8080/"
    },
    "id": "22af1299",
    "outputId": "c6fa1b3d-6840-4760-a6da-650fdcdf29d4"
   },
   "outputs": [
    {
     "name": "stdout",
     "output_type": "stream",
     "text": [
      "Model: \"sequential\"\n",
      "_________________________________________________________________\n",
      " Layer (type)                Output Shape              Param #   \n",
      "=================================================================\n",
      " dense (Dense)               (None, 50)                500050    \n",
      "                                                                 \n",
      " dropout (Dropout)           (None, 50)                0         \n",
      "                                                                 \n",
      " dense_1 (Dense)             (None, 50)                2550      \n",
      "                                                                 \n",
      " dropout_1 (Dropout)         (None, 50)                0         \n",
      "                                                                 \n",
      " dense_2 (Dense)             (None, 50)                2550      \n",
      "                                                                 \n",
      " dense_3 (Dense)             (None, 1)                 51        \n",
      "                                                                 \n",
      "=================================================================\n",
      "Total params: 505,201\n",
      "Trainable params: 505,201\n",
      "Non-trainable params: 0\n",
      "_________________________________________________________________\n"
     ]
    }
   ],
   "source": [
    "model = Sequential()\n",
    "\n",
    "model.add(Dense(50, activation = \"relu\", input_shape=(10000, )))\n",
    "\n",
    "model.add(Dropout(0.3, noise_shape=None, seed=None))\n",
    "model.add(Dense(50, activation = \"relu\"))\n",
    "\n",
    "model.add(Dropout(0.2, noise_shape=None, seed=None))\n",
    "model.add(Dense(50, activation = \"relu\"))\n",
    "\n",
    "model.add(Dense(1, activation = \"sigmoid\"))\n",
    "\n",
    "model.summary()"
   ]
  },
  {
   "cell_type": "code",
   "execution_count": 12,
   "id": "982a2a6d",
   "metadata": {
    "id": "982a2a6d"
   },
   "outputs": [],
   "source": [
    "model.compile(optimizer = \"adam\", loss = \"binary_crossentropy\", \n",
    "              metrics = [\"accuracy\"])"
   ]
  },
  {
   "cell_type": "code",
   "execution_count": 14,
   "id": "971541bd",
   "metadata": {
    "colab": {
     "base_uri": "https://localhost:8080/"
    },
    "id": "971541bd",
    "outputId": "6724cbbc-ae13-4202-a8fe-266c113986c4"
   },
   "outputs": [
    {
     "name": "stdout",
     "output_type": "stream",
     "text": [
      "Epoch 1/2\n",
      "80/80 [==============================] - 3s 26ms/step - loss: 0.4009 - accuracy: 0.8230 - val_loss: 0.2778 - val_accuracy: 0.8850\n",
      "Epoch 2/2\n",
      "80/80 [==============================] - 2s 20ms/step - loss: 0.2151 - accuracy: 0.9181 - val_loss: 0.2615 - val_accuracy: 0.8953\n"
     ]
    }
   ],
   "source": [
    "results = model.fit(train_x, train_y, epochs= 2, batch_size = 500, \n",
    "                    validation_data = (test_x, test_y))"
   ]
  },
  {
   "cell_type": "code",
   "execution_count": 15,
   "id": "9ad8bdc0",
   "metadata": {
    "colab": {
     "base_uri": "https://localhost:8080/"
    },
    "id": "9ad8bdc0",
    "outputId": "fa80997e-2978-48d0-9125-23cb2ec968b3"
   },
   "outputs": [
    {
     "name": "stdout",
     "output_type": "stream",
     "text": [
      "0.8901499807834625\n"
     ]
    }
   ],
   "source": [
    "print(np.mean(results.history[\"val_accuracy\"]))"
   ]
  },
  {
   "cell_type": "markdown",
   "id": "bd84d715",
   "metadata": {
    "id": "bd84d715"
   },
   "source": [
    "### Достигнем максимально возможной точности прогноза на валидационных данных (без применения Transfer Learning, Ensemble Modeling, Word Embeddings, etc)"
   ]
  },
  {
   "cell_type": "code",
   "execution_count": 18,
   "id": "7ed2f551",
   "metadata": {},
   "outputs": [],
   "source": [
    "model_exp = Sequential()\n",
    "\n",
    "model_exp.add(BatchNormalization(synchronized=True))\n",
    "\n",
    "model_exp.add(Dense(60, activation = \"relu\", input_shape=(10000, ),\n",
    "                       kernel_initializer=glorot_uniform()))\n",
    "model_exp.add(Dense(150, activation='relu',\n",
    "                   kernel_initializer=glorot_uniform(), bias_regularizer=l2(0.05)))\n",
    "model_exp.add(Dropout(0.3))\n",
    "\n",
    "model_exp.add(BatchNormalization(synchronized=True))\n",
    "\n",
    "model_exp.add(Dense(90, activation='relu',\n",
    "                   kernel_initializer=glorot_uniform(), bias_regularizer=l2(0.05)))\n",
    "model_exp.add(Dropout(0.2))\n",
    "\n",
    "model_exp.add(BatchNormalization(synchronized=True))\n",
    "\n",
    "model_exp.add(Dense(40, activation='relu',\n",
    "                   kernel_initializer=glorot_uniform(), bias_regularizer=l2(0.05)))\n",
    "model_exp.add(Dense(1, activation='sigmoid'))"
   ]
  },
  {
   "cell_type": "code",
   "execution_count": 19,
   "id": "8c0d497e",
   "metadata": {},
   "outputs": [
    {
     "name": "stdout",
     "output_type": "stream",
     "text": [
      "Epoch 1/3\n",
      "115/115 [==============================] - 7s 41ms/step - loss: 0.4074 - accuracy: 0.8050 - val_loss: 0.3444 - val_accuracy: 0.8749\n",
      "Epoch 2/3\n",
      "115/115 [==============================] - 4s 37ms/step - loss: 0.1806 - accuracy: 0.9317 - val_loss: 0.2895 - val_accuracy: 0.8834\n",
      "Epoch 3/3\n",
      "115/115 [==============================] - 4s 38ms/step - loss: 0.1010 - accuracy: 0.9645 - val_loss: 0.3260 - val_accuracy: 0.8822\n",
      "0.8901499807834625\n"
     ]
    }
   ],
   "source": [
    "model_exp.compile(loss='binary_crossentropy', optimizer='adam', metrics=['accuracy'])\n",
    "model_exp.fit(train_x, train_y, validation_data=(test_x, test_y), epochs=3, batch_size=350, verbose=1)\n",
    "print(np.mean(results.history[\"val_accuracy\"]))"
   ]
  },
  {
   "cell_type": "markdown",
   "id": "0eddab33",
   "metadata": {},
   "source": [
    "### Функция, которая позволяет ввести пользовательский текст"
   ]
  },
  {
   "cell_type": "code",
   "execution_count": 23,
   "id": "2f180b9d",
   "metadata": {},
   "outputs": [],
   "source": [
    "def preproc(text):\n",
    "    text_punct = re.sub(r\"[!#$%&'()*+,./:;<=>?@[\\]^_`{|}~—\\\"\\-]\", ' ', text)\n",
    "    text_numbers = re.sub(r\"[0-9]\", ' ', text_punct)\n",
    "    \n",
    "    text_token = word_tokenize(text_numbers, language='english')\n",
    "    stop = set(stopwords.words('english'))\n",
    "    text_preproc = [word for word in text_token if word not in stop]\n",
    "    \n",
    "#     doc = nlp(text_preproc)\n",
    "#     text_lemmed = [word.lemma_ for word in doc]\n",
    "\n",
    "    return text_preproc"
   ]
  },
  {
   "cell_type": "code",
   "execution_count": 24,
   "id": "12937a55",
   "metadata": {},
   "outputs": [],
   "source": [
    "def get_index(words_prep):\n",
    "    res = []\n",
    "    for i in range(len(words_prep)):\n",
    "        word_index = imdb.get_word_index()\n",
    "        word = words_prep[i]\n",
    "        if word_index[word] < 10000:\n",
    "            res.append(word_index[word])\n",
    "    return res"
   ]
  },
  {
   "cell_type": "code",
   "execution_count": 25,
   "id": "b50b2d33",
   "metadata": {},
   "outputs": [],
   "source": [
    "def get_vec(words_idx):\n",
    "    n = 10000\n",
    "    words_ready = [0]*n\n",
    "    for i in range(n):\n",
    "        if i in words_idx and i < n:\n",
    "            words_ready[i] = 1\n",
    "    return np.asarray(words_ready).astype('float64')"
   ]
  },
  {
   "cell_type": "markdown",
   "id": "780ecd7b",
   "metadata": {},
   "source": [
    "#### Positive review"
   ]
  },
  {
   "cell_type": "code",
   "execution_count": 26,
   "id": "775c43cf",
   "metadata": {},
   "outputs": [
    {
     "name": "stdout",
     "output_type": "stream",
     "text": [
      "Input your movie review: this movie was so well written and the casting was awesome that i must say it's great. Ben Affleck is quite good, and Rosamund Pike is great. The whole plot keeps you guessing and on the edge of your seat. Overall, a great movie. I highly recommend! Great to watch with significant other, not so much for families. movie well written casting awesome must say great ben affleck quite good rosamund pike great whole plot keeps guessing edge seat overall great movie highly recommend great watch significant much families\n"
     ]
    }
   ],
   "source": [
    "text_string = str(input('Input your movie review: '))\n",
    "words = preproc(text_string.lower())\n",
    "words_prep = words.copy()\n",
    "words_idx = get_index(words_prep)"
   ]
  },
  {
   "cell_type": "code",
   "execution_count": 28,
   "id": "0c369a04",
   "metadata": {},
   "outputs": [],
   "source": [
    "tokenizer = Tokenizer()\n",
    "train_rev_tokens = tokenizer.texts_to_sequences(words_prep)"
   ]
  },
  {
   "cell_type": "code",
   "execution_count": 36,
   "id": "aba20a86",
   "metadata": {
    "scrolled": true
   },
   "outputs": [],
   "source": [
    "# words_prep"
   ]
  },
  {
   "cell_type": "code",
   "execution_count": 37,
   "id": "98ef62b2",
   "metadata": {
    "scrolled": true
   },
   "outputs": [],
   "source": [
    "# train_rev_tokens"
   ]
  },
  {
   "cell_type": "code",
   "execution_count": 31,
   "id": "3eb37291",
   "metadata": {},
   "outputs": [],
   "source": [
    "train_rev_pad = pad_sequences(train_rev_tokens, maxlen=10000)"
   ]
  },
  {
   "cell_type": "code",
   "execution_count": 38,
   "id": "82ba0a69",
   "metadata": {},
   "outputs": [],
   "source": [
    "# train_rev_pad"
   ]
  },
  {
   "cell_type": "code",
   "execution_count": 34,
   "id": "7d36d3a7",
   "metadata": {},
   "outputs": [
    {
     "name": "stdout",
     "output_type": "stream",
     "text": [
      "2/2 [==============================] - 0s 6ms/step\n"
     ]
    },
    {
     "data": {
      "text/plain": [
       "array([[0.7601062],\n",
       "       [0.7601062],\n",
       "       [0.7601062],\n",
       "       [0.7601062],\n",
       "       [0.7601062],\n",
       "       [0.7601062],\n",
       "       [0.7601062],\n",
       "       [0.7601062],\n",
       "       [0.7601062],\n",
       "       [0.7601062],\n",
       "       [0.7601062],\n",
       "       [0.7601062],\n",
       "       [0.7601062],\n",
       "       [0.7601062],\n",
       "       [0.7601062],\n",
       "       [0.7601062],\n",
       "       [0.7601062],\n",
       "       [0.7601062],\n",
       "       [0.7601062],\n",
       "       [0.7601062],\n",
       "       [0.7601062],\n",
       "       [0.7601062],\n",
       "       [0.7601062],\n",
       "       [0.7601062],\n",
       "       [0.7601062],\n",
       "       [0.7601062],\n",
       "       [0.7601062],\n",
       "       [0.7601062],\n",
       "       [0.7601062],\n",
       "       [0.7601062],\n",
       "       [0.7601061],\n",
       "       [0.7601061],\n",
       "       [0.7601062],\n",
       "       [0.7601062],\n",
       "       [0.7601062],\n",
       "       [0.7601062],\n",
       "       [0.7601062],\n",
       "       [0.7601062],\n",
       "       [0.7601062],\n",
       "       [0.7601062],\n",
       "       [0.7601062],\n",
       "       [0.7601062],\n",
       "       [0.7601062],\n",
       "       [0.7601062],\n",
       "       [0.7601062],\n",
       "       [0.7601062],\n",
       "       [0.7601062],\n",
       "       [0.7601062],\n",
       "       [0.7601062],\n",
       "       [0.7601062],\n",
       "       [0.7601062],\n",
       "       [0.7601062],\n",
       "       [0.7601062],\n",
       "       [0.7601062],\n",
       "       [0.7601062],\n",
       "       [0.7601062],\n",
       "       [0.7601062],\n",
       "       [0.7601062],\n",
       "       [0.7601062],\n",
       "       [0.7601062],\n",
       "       [0.7601062],\n",
       "       [0.7601062]], dtype=float32)"
      ]
     },
     "execution_count": 34,
     "metadata": {},
     "output_type": "execute_result"
    }
   ],
   "source": [
    "model_exp.predict(train_rev_pad)"
   ]
  },
  {
   "cell_type": "code",
   "execution_count": 103,
   "id": "7c756339",
   "metadata": {
    "scrolled": true
   },
   "outputs": [],
   "source": [
    "# words"
   ]
  },
  {
   "cell_type": "code",
   "execution_count": 133,
   "id": "98253b15",
   "metadata": {
    "scrolled": true
   },
   "outputs": [],
   "source": [
    "# words_idx[0]"
   ]
  },
  {
   "cell_type": "code",
   "execution_count": 106,
   "id": "cc378087",
   "metadata": {},
   "outputs": [],
   "source": [
    "# # words_ready = [el for el in words_idx if el < 10000]\n",
    "# def asdfgh(words_idx):\n",
    "#     n = 10000\n",
    "#     words_ready = [0]*n\n",
    "#     for i in range(n):\n",
    "#         if i in words_idx and i < n:\n",
    "#             words_ready[i] = 1\n",
    "#     return words_ready"
   ]
  },
  {
   "cell_type": "code",
   "execution_count": 134,
   "id": "58d184a5",
   "metadata": {
    "scrolled": true
   },
   "outputs": [],
   "source": [
    "# words_idx"
   ]
  },
  {
   "cell_type": "markdown",
   "id": "3d2030e7",
   "metadata": {},
   "source": [
    "#### Positive review"
   ]
  },
  {
   "cell_type": "code",
   "execution_count": 45,
   "id": "9ff454ec",
   "metadata": {},
   "outputs": [
    {
     "name": "stdout",
     "output_type": "stream",
     "text": [
      "Input your movie review: Cunning. Clever. Sharp. Twisted. Dark. The way thrillers should be made. It is surprisingly good. Loved every minute of this masterpiece. These types of movies come once in a while and should be treasured immensely. Here's a mainstream movie that's actually REALLY good!\n"
     ]
    }
   ],
   "source": [
    "text_string = str(input('Input your movie review: '))\n",
    "words = preproc(text_string.lower())\n",
    "# print(words)\n",
    "words_prep = words.copy()\n",
    "words_idx = get_index(words)"
   ]
  },
  {
   "cell_type": "code",
   "execution_count": 46,
   "id": "eb5ff4cb",
   "metadata": {},
   "outputs": [],
   "source": [
    "tokenizer = Tokenizer()\n",
    "train_rev_tokens = tokenizer.texts_to_sequences(words_prep)"
   ]
  },
  {
   "cell_type": "code",
   "execution_count": 47,
   "id": "65b5664d",
   "metadata": {},
   "outputs": [],
   "source": [
    "train_rev_pad = pad_sequences(train_rev_tokens, maxlen=10000)"
   ]
  },
  {
   "cell_type": "code",
   "execution_count": 50,
   "id": "4a236a8f",
   "metadata": {
    "scrolled": false
   },
   "outputs": [
    {
     "name": "stdout",
     "output_type": "stream",
     "text": [
      "1/1 [==============================] - 0s 22ms/step\n"
     ]
    },
    {
     "data": {
      "text/plain": [
       "array([[0.7601062],\n",
       "       [0.7601062],\n",
       "       [0.7601062],\n",
       "       [0.7601062],\n",
       "       [0.7601062],\n",
       "       [0.7601062],\n",
       "       [0.7601062],\n",
       "       [0.7601062],\n",
       "       [0.7601062],\n",
       "       [0.7601062],\n",
       "       [0.7601062],\n",
       "       [0.7601062],\n",
       "       [0.7601062],\n",
       "       [0.7601062],\n",
       "       [0.7601062],\n",
       "       [0.7601062],\n",
       "       [0.7601062],\n",
       "       [0.7601062],\n",
       "       [0.7601062],\n",
       "       [0.7601062],\n",
       "       [0.7601062],\n",
       "       [0.7601062],\n",
       "       [0.7601062],\n",
       "       [0.7601062]], dtype=float32)"
      ]
     },
     "execution_count": 50,
     "metadata": {},
     "output_type": "execute_result"
    }
   ],
   "source": [
    "model_exp.predict(train_rev_pad)"
   ]
  },
  {
   "cell_type": "code",
   "execution_count": null,
   "id": "4ca6008e",
   "metadata": {},
   "outputs": [],
   "source": []
  },
  {
   "cell_type": "code",
   "execution_count": null,
   "id": "0025473f",
   "metadata": {},
   "outputs": [],
   "source": []
  },
  {
   "cell_type": "code",
   "execution_count": null,
   "id": "ee23a29d",
   "metadata": {},
   "outputs": [],
   "source": []
  },
  {
   "cell_type": "code",
   "execution_count": 109,
   "id": "36df40f6",
   "metadata": {},
   "outputs": [
    {
     "name": "stdout",
     "output_type": "stream",
     "text": [
      "[==================================================] 100.0% 128.1/128.1MB downloaded\n"
     ]
    }
   ],
   "source": [
    "# word_vectors = api.load(\"glove-wiki-gigaword-100\")"
   ]
  },
  {
   "cell_type": "code",
   "execution_count": 239,
   "id": "59bcad3b",
   "metadata": {},
   "outputs": [],
   "source": [
    "# def to_vec(words):\n",
    "#     vecs = []\n",
    "#     for word in words:\n",
    "#         if word in word_vectors:\n",
    "#             vctr = word_vectors.get_vector(word, norm=False)\n",
    "#             vecs.append(vctr)\n",
    "# #     vctr.tolist()\n",
    "#     return np.asarray(vctr)"
   ]
  },
  {
   "cell_type": "code",
   "execution_count": 330,
   "id": "45ab44da",
   "metadata": {
    "scrolled": true
   },
   "outputs": [
    {
     "name": "stdout",
     "output_type": "stream",
     "text": [
      "Input your movie review: Thought this would be a good thriller, but ultimately it was draining and depressing. Would think any man who sees this film would never want to interact with any woman again...... it portrayed women as being monstrous and men as passive, crazy zombies. The story had so many loose ends and unbelievable scenes, such as where she returns home covered in blood..... then she's at the hospital - there had to be an exam, then giving an interview to detectives, then comes home still covered in blood....how much time elapsed during these scenes, and who would allow her to drive around, carry on, covered in blood for all that time? With great emphasis on crass words for women, violent scenes, and a score that sounded like a synthesizer importing screeches from an airport runway, this was one depressing film. The only place it was believable was in its depiction of the media and how they revel in tragedy and perversion. If this becomes our prime form of entertainment we are in big trouble.\n"
     ]
    }
   ],
   "source": [
    "# words_vecs = to_vec(words)\n",
    "# vectorizer = TfidfVectorizer()\n",
    "# words_vecs = vectorizer.fit_transform(words)\n",
    "# words_vecs = words_vecs.toarray()"
   ]
  },
  {
   "cell_type": "code",
   "execution_count": 222,
   "id": "7337a2a4",
   "metadata": {},
   "outputs": [],
   "source": [
    "# text_string = list(input('Input your movie review: '))\n",
    "# count_vect = CountVectorizer()\n",
    "# X_train_counts = count_vect.fit_transform(text_string)"
   ]
  },
  {
   "cell_type": "code",
   "execution_count": 444,
   "id": "fc1d48cd",
   "metadata": {},
   "outputs": [],
   "source": [
    "# res_data = tf.expand_dims(train_data, axis=0)\n",
    "# res_data"
   ]
  },
  {
   "cell_type": "code",
   "execution_count": 237,
   "id": "8f82b2fe",
   "metadata": {},
   "outputs": [],
   "source": [
    "# vectorizer = TfidfVectorizer()\n",
    "# words_vecs = vectorizer.fit_transform(words)\n",
    "# words_vecs = words_vecs.toarray()\n",
    "# vectorizer.get_feature_names_out()"
   ]
  },
  {
   "cell_type": "code",
   "execution_count": 236,
   "id": "129b6eeb",
   "metadata": {},
   "outputs": [],
   "source": [
    "# data_train = sequence.pad_sequences(words_vecs, maxlen=10000)"
   ]
  },
  {
   "cell_type": "code",
   "execution_count": 166,
   "id": "c79e9643",
   "metadata": {},
   "outputs": [],
   "source": []
  },
  {
   "cell_type": "code",
   "execution_count": null,
   "id": "471985e2",
   "metadata": {},
   "outputs": [],
   "source": []
  },
  {
   "cell_type": "code",
   "execution_count": null,
   "id": "db85bd0e",
   "metadata": {},
   "outputs": [],
   "source": []
  },
  {
   "cell_type": "code",
   "execution_count": null,
   "id": "1a9a080c",
   "metadata": {},
   "outputs": [],
   "source": []
  },
  {
   "cell_type": "code",
   "execution_count": null,
   "id": "1b32366d",
   "metadata": {},
   "outputs": [],
   "source": []
  },
  {
   "cell_type": "code",
   "execution_count": null,
   "id": "b7b6c7ec",
   "metadata": {},
   "outputs": [],
   "source": []
  }
 ],
 "metadata": {
  "colab": {
   "provenance": []
  },
  "kernelspec": {
   "display_name": "Python 3 (ipykernel)",
   "language": "python",
   "name": "python3"
  },
  "language_info": {
   "codemirror_mode": {
    "name": "ipython",
    "version": 3
   },
   "file_extension": ".py",
   "mimetype": "text/x-python",
   "name": "python",
   "nbconvert_exporter": "python",
   "pygments_lexer": "ipython3",
   "version": "3.10.9"
  }
 },
 "nbformat": 4,
 "nbformat_minor": 5
}
